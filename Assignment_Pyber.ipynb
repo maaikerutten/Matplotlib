{
 "cells": [
  {
   "cell_type": "code",
   "execution_count": 17,
   "metadata": {},
   "outputs": [
    {
     "data": {
      "text/html": [
       "<div>\n",
       "<style scoped>\n",
       "    .dataframe tbody tr th:only-of-type {\n",
       "        vertical-align: middle;\n",
       "    }\n",
       "\n",
       "    .dataframe tbody tr th {\n",
       "        vertical-align: top;\n",
       "    }\n",
       "\n",
       "    .dataframe thead th {\n",
       "        text-align: right;\n",
       "    }\n",
       "</style>\n",
       "<table border=\"1\" class=\"dataframe\">\n",
       "  <thead>\n",
       "    <tr style=\"text-align: right;\">\n",
       "      <th></th>\n",
       "      <th>city</th>\n",
       "      <th>date</th>\n",
       "      <th>fare</th>\n",
       "      <th>ride_id</th>\n",
       "      <th>driver_count</th>\n",
       "      <th>type</th>\n",
       "    </tr>\n",
       "  </thead>\n",
       "  <tbody>\n",
       "    <tr>\n",
       "      <th>0</th>\n",
       "      <td>Lake Jonathanshire</td>\n",
       "      <td>2018-01-14 10:14:22</td>\n",
       "      <td>13.83</td>\n",
       "      <td>5739410935873</td>\n",
       "      <td>5</td>\n",
       "      <td>Urban</td>\n",
       "    </tr>\n",
       "    <tr>\n",
       "      <th>1</th>\n",
       "      <td>South Michelleport</td>\n",
       "      <td>2018-03-04 18:24:09</td>\n",
       "      <td>30.24</td>\n",
       "      <td>2343912425577</td>\n",
       "      <td>72</td>\n",
       "      <td>Urban</td>\n",
       "    </tr>\n",
       "    <tr>\n",
       "      <th>2</th>\n",
       "      <td>Port Samanthamouth</td>\n",
       "      <td>2018-02-24 04:29:00</td>\n",
       "      <td>33.44</td>\n",
       "      <td>2005065760003</td>\n",
       "      <td>57</td>\n",
       "      <td>Urban</td>\n",
       "    </tr>\n",
       "    <tr>\n",
       "      <th>3</th>\n",
       "      <td>Rodneyfort</td>\n",
       "      <td>2018-02-10 23:22:03</td>\n",
       "      <td>23.44</td>\n",
       "      <td>5149245426178</td>\n",
       "      <td>34</td>\n",
       "      <td>Urban</td>\n",
       "    </tr>\n",
       "    <tr>\n",
       "      <th>4</th>\n",
       "      <td>South Jack</td>\n",
       "      <td>2018-03-06 04:28:35</td>\n",
       "      <td>34.58</td>\n",
       "      <td>3908451377344</td>\n",
       "      <td>46</td>\n",
       "      <td>Urban</td>\n",
       "    </tr>\n",
       "  </tbody>\n",
       "</table>\n",
       "</div>"
      ],
      "text/plain": [
       "                 city                 date   fare        ride_id  \\\n",
       "0  Lake Jonathanshire  2018-01-14 10:14:22  13.83  5739410935873   \n",
       "1  South Michelleport  2018-03-04 18:24:09  30.24  2343912425577   \n",
       "2  Port Samanthamouth  2018-02-24 04:29:00  33.44  2005065760003   \n",
       "3          Rodneyfort  2018-02-10 23:22:03  23.44  5149245426178   \n",
       "4          South Jack  2018-03-06 04:28:35  34.58  3908451377344   \n",
       "\n",
       "   driver_count   type  \n",
       "0             5  Urban  \n",
       "1            72  Urban  \n",
       "2            57  Urban  \n",
       "3            34  Urban  \n",
       "4            46  Urban  "
      ]
     },
     "execution_count": 17,
     "metadata": {},
     "output_type": "execute_result"
    }
   ],
   "source": [
    "%matplotlib inline\n",
    "# Dependencies and Setup\n",
    "import matplotlib.pyplot as plt\n",
    "import pandas as pd\n",
    "import numpy as np\n",
    "\n",
    "# File to Load (copied csv files locally)\n",
    "city_data_to_load = \"data/city_data.csv\"\n",
    "ride_data_to_load = \"data/ride_data.csv\"\n",
    "\n",
    "# Read the City and Ride Data\n",
    "city_data = pd.read_csv(\"data/city_data.csv\")\n",
    "ride_data = pd.read_csv(\"data/ride_data.csv\")\n",
    "\n",
    "# Combine the data into a single dataset\n",
    "combined_city_ride_df = pd.merge(ride_data, city_data,\n",
    "                                 how='left', on='city')\n",
    "\n",
    "# Display the data table for preview\n",
    "combined_city_ride_df.head()"
   ]
  },
  {
   "cell_type": "code",
   "execution_count": null,
   "metadata": {},
   "outputs": [],
   "source": []
  },
  {
   "cell_type": "code",
   "execution_count": null,
   "metadata": {},
   "outputs": [],
   "source": []
  },
  {
   "cell_type": "code",
   "execution_count": 25,
   "metadata": {},
   "outputs": [
    {
     "data": {
      "text/plain": [
       "type      city                \n",
       "Rural     Bradshawfurt            40.064000\n",
       "          Garzaport               24.123333\n",
       "          Harringtonfort          33.470000\n",
       "          Jessicaport             36.013333\n",
       "          Lake Jamie              34.358333\n",
       "          Lake Latoyabury         26.061818\n",
       "          Michaelberg             34.997500\n",
       "          New Ryantown            43.278333\n",
       "          Newtonview              36.745000\n",
       "          North Holly             29.130000\n",
       "          North Jaime             30.802500\n",
       "          Penaborough             35.246000\n",
       "          Randallchester          29.742000\n",
       "          South Jennifer          35.264286\n",
       "          South Marychester       41.870000\n",
       "          South Saramouth         36.160000\n",
       "          Taylorhaven             42.263333\n",
       "          West Heather            33.890000\n",
       "Suburban  Barronchester           36.422500\n",
       "          Bethanyland             32.956111\n",
       "          Brandonfort             35.437368\n",
       "          Colemanland             30.894545\n",
       "          Davidfurt               31.995882\n",
       "          East Aaronbury          25.661111\n",
       "          East Danielview         31.560588\n",
       "          East Kentstad           29.823077\n",
       "          East Marymouth          30.835185\n",
       "          Grayville               27.763333\n",
       "          Josephside              32.858148\n",
       "          Lake Ann                30.890000\n",
       "                                    ...    \n",
       "Urban     Port Johnbury           23.006364\n",
       "          Port Samanthamouth      25.642800\n",
       "          Raymondhaven            21.480400\n",
       "          Reynoldsfurt            21.919474\n",
       "          Richardfort             22.373214\n",
       "          Roberthaven             23.729167\n",
       "          Robertport              23.060500\n",
       "          Rodneyfort              28.616957\n",
       "          Rogerston               22.097727\n",
       "          Royland                 20.570667\n",
       "          Simpsonburgh            23.355833\n",
       "          South Evanton           26.726129\n",
       "          South Jack              22.965263\n",
       "          South Karenland         26.535526\n",
       "          South Latoya            20.093158\n",
       "          South Michelleport      24.451613\n",
       "          South Phillip           28.571290\n",
       "          Valentineton            24.636364\n",
       "          West Angela             25.990000\n",
       "          West Anthony            24.736667\n",
       "          West Christopherberg    24.421154\n",
       "          West Ericstad           22.347222\n",
       "          West Gabriel            20.346087\n",
       "          West Heidi              23.133929\n",
       "          West Josephberg         21.720385\n",
       "          West Patrickchester     28.233125\n",
       "          West Robert             25.123871\n",
       "          West Samuelburgh        21.767600\n",
       "          Williamsstad            24.362174\n",
       "          Williamsview            26.599000\n",
       "Name: fare, Length: 120, dtype: float64"
      ]
     },
     "execution_count": 25,
     "metadata": {},
     "output_type": "execute_result"
    }
   ],
   "source": [
    "# Obtain the x and y coordinates for each of the three city types\n",
    "groupby_city_types = combined_city_ride_df.groupby([\"type\", \"city\"])\n",
    "groupby_city_types.head()\n",
    "groupby_city_types.count().head(10)\n",
    "groupby_city_types[\"fare\"].mean()"
   ]
  },
  {
   "cell_type": "code",
   "execution_count": 29,
   "metadata": {},
   "outputs": [
    {
     "ename": "SyntaxError",
     "evalue": "invalid syntax (<ipython-input-29-8ead486de3f3>, line 18)",
     "output_type": "error",
     "traceback": [
      "\u001b[1;36m  File \u001b[1;32m\"<ipython-input-29-8ead486de3f3>\"\u001b[1;36m, line \u001b[1;32m18\u001b[0m\n\u001b[1;33m    plt.legend(handles=[City Types], loc=\"best\")\u001b[0m\n\u001b[1;37m                                 ^\u001b[0m\n\u001b[1;31mSyntaxError\u001b[0m\u001b[1;31m:\u001b[0m invalid syntax\n"
     ]
    }
   ],
   "source": [
    "\n",
    "# Build the scatter plots for each city types\n",
    "x_axis = groupby_city_types[\"fare\"].mean()\n",
    "data = \"city\"\n",
    "plt.scatter (x_axis, data, marker=\"o\", facecolors=\"red\", edgecolors=\"black\", s= x_axis, alpha=0.75)\n",
    "plt.ylim(18,45)\n",
    "plt.xlim(0,45)\n",
    "\n",
    "plt.title(\"Pyber Ride Sharing Data (2016)\")\n",
    "plt.xlabel(\"Total Number of Rides (Per City)\")\n",
    "plt.ylabel(\"Average Fare ($)\")\n",
    "\n",
    "plt.scatter(x_axis, times, marker=\"o\", color=\"red\")\n",
    "plt.show()\n",
    "# Incorporate the other graph properties\n",
    "\n",
    "# Create a legend\n",
    "plt.legend(handles=[City Types], loc=\"best\")\n",
    "\n",
    "# Incorporate a text label regarding circle size\n",
    "\n",
    "# Save Figure"
   ]
  },
  {
   "cell_type": "code",
   "execution_count": 30,
   "metadata": {},
   "outputs": [],
   "source": [
    "# Show plot\n",
    "plt.show()"
   ]
  },
  {
   "cell_type": "code",
   "execution_count": null,
   "metadata": {},
   "outputs": [],
   "source": [
    "# Calculate Type Percents\n",
    "\n",
    "# Build Pie Chart\n",
    "\n",
    "# Save Figure"
   ]
  },
  {
   "cell_type": "code",
   "execution_count": null,
   "metadata": {},
   "outputs": [],
   "source": [
    "# Show Figure\n",
    "plt.show()"
   ]
  },
  {
   "cell_type": "code",
   "execution_count": null,
   "metadata": {},
   "outputs": [],
   "source": [
    "# Calculate Ride Percents\n",
    "\n",
    "# Build Pie Chart\n",
    "\n",
    "# Save Figure\n"
   ]
  },
  {
   "cell_type": "code",
   "execution_count": null,
   "metadata": {},
   "outputs": [],
   "source": [
    "# Show Figure\n",
    "plt.show()"
   ]
  },
  {
   "cell_type": "code",
   "execution_count": null,
   "metadata": {},
   "outputs": [],
   "source": [
    "# Calculate Driver Percents\n",
    "\n",
    "# Build Pie Charts\n",
    "\n",
    "# Save Figure"
   ]
  },
  {
   "cell_type": "code",
   "execution_count": null,
   "metadata": {},
   "outputs": [],
   "source": [
    "# Show Figure\n",
    "plt.show()"
   ]
  }
 ],
 "metadata": {
  "kernelspec": {
   "display_name": "Python 3",
   "language": "python",
   "name": "python3"
  },
  "language_info": {
   "codemirror_mode": {
    "name": "ipython",
    "version": 3
   },
   "file_extension": ".py",
   "mimetype": "text/x-python",
   "name": "python",
   "nbconvert_exporter": "python",
   "pygments_lexer": "ipython3",
   "version": "3.6.6"
  }
 },
 "nbformat": 4,
 "nbformat_minor": 2
}
